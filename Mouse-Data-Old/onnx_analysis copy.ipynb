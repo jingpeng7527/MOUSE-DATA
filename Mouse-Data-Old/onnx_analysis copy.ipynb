{
 "cells": [
  {
   "cell_type": "code",
   "execution_count": 1,
   "metadata": {},
   "outputs": [
    {
     "name": "stdout",
     "output_type": "stream",
     "text": [
      "graph torch_jit (\n",
      "  %obs_0[FLOAT, batchx1x86x155]\n",
      ") initializers (\n",
      "  %version_number.1[FLOAT, 1]\n",
      "  %memory_size_vector[FLOAT, 1]\n",
      "  %network_body.observation_encoder.processors.0.dense.0.weight[FLOAT, 256x13330]\n",
      "  %network_body.observation_encoder.processors.0.dense.0.bias[FLOAT, 256]\n",
      "  %network_body._body_endoder.seq_layers.0.weight[FLOAT, 256x256]\n",
      "  %network_body._body_endoder.seq_layers.0.bias[FLOAT, 256]\n",
      "  %network_body._body_endoder.seq_layers.2.weight[FLOAT, 256x256]\n",
      "  %network_body._body_endoder.seq_layers.2.bias[FLOAT, 256]\n",
      "  %action_model._continuous_distribution.log_sigma[FLOAT, 1x3]\n",
      "  %action_model._continuous_distribution.mu.weight[FLOAT, 3x256]\n",
      "  %action_model._continuous_distribution.mu.bias[FLOAT, 3]\n",
      ") {\n",
      "  %continuous_act_size_vector = Identity(%version_number.1)\n",
      "  %/network_body/observation_encoder/processors.0/Constant_output_0 = Constant[value = <Tensor>]()\n",
      "  %/network_body/observation_encoder/processors.0/Reshape_output_0 = Reshape(%obs_0, %/network_body/observation_encoder/processors.0/Constant_output_0)\n",
      "  %/network_body/observation_encoder/processors.0/dense/dense.0/Gemm_output_0 = Gemm[alpha = 1, beta = 1, transB = 1](%/network_body/observation_encoder/processors.0/Reshape_output_0, %network_body.observation_encoder.processors.0.dense.0.weight, %network_body.observation_encoder.processors.0.dense.0.bias)\n",
      "  %/network_body/observation_encoder/processors.0/dense/dense.1/LeakyRelu_output_0 = LeakyRelu[alpha = 0.00999999977648258](%/network_body/observation_encoder/processors.0/dense/dense.0/Gemm_output_0)\n",
      "  %/network_body/observation_encoder/Concat_output_0 = Concat[axis = 1](%/network_body/observation_encoder/processors.0/dense/dense.1/LeakyRelu_output_0)\n",
      "  %/network_body/_body_endoder/seq_layers/seq_layers.0/Gemm_output_0 = Gemm[alpha = 1, beta = 1, transB = 1](%/network_body/observation_encoder/Concat_output_0, %network_body._body_endoder.seq_layers.0.weight, %network_body._body_endoder.seq_layers.0.bias)\n",
      "  %/network_body/_body_endoder/seq_layers/seq_layers.1/Sigmoid_output_0 = Sigmoid(%/network_body/_body_endoder/seq_layers/seq_layers.0/Gemm_output_0)\n",
      "  %/network_body/_body_endoder/seq_layers/seq_layers.1/Mul_output_0 = Mul(%/network_body/_body_endoder/seq_layers/seq_layers.0/Gemm_output_0, %/network_body/_body_endoder/seq_layers/seq_layers.1/Sigmoid_output_0)\n",
      "  %/network_body/_body_endoder/seq_layers/seq_layers.2/Gemm_output_0 = Gemm[alpha = 1, beta = 1, transB = 1](%/network_body/_body_endoder/seq_layers/seq_layers.1/Mul_output_0, %network_body._body_endoder.seq_layers.2.weight, %network_body._body_endoder.seq_layers.2.bias)\n",
      "  %/network_body/_body_endoder/seq_layers/seq_layers.3/Sigmoid_output_0 = Sigmoid(%/network_body/_body_endoder/seq_layers/seq_layers.2/Gemm_output_0)\n",
      "  %/network_body/_body_endoder/seq_layers/seq_layers.3/Mul_output_0 = Mul(%/network_body/_body_endoder/seq_layers/seq_layers.2/Gemm_output_0, %/network_body/_body_endoder/seq_layers/seq_layers.3/Sigmoid_output_0)\n",
      "  %/_continuous_distribution/mu/Gemm_output_0 = Gemm[alpha = 1, beta = 1, transB = 1](%/network_body/_body_endoder/seq_layers/seq_layers.3/Mul_output_0, %action_model._continuous_distribution.mu.weight, %action_model._continuous_distribution.mu.bias)\n",
      "  %/_continuous_distribution/Constant_output_0 = Constant[value = <Scalar Tensor []>]()\n",
      "  %/_continuous_distribution/Mul_output_0 = Mul(%/_continuous_distribution/mu/Gemm_output_0, %/_continuous_distribution/Constant_output_0)\n",
      "  %/_continuous_distribution/Add_output_0 = Add(%/_continuous_distribution/Mul_output_0, %action_model._continuous_distribution.log_sigma)\n",
      "  %/_continuous_distribution/Exp_output_0 = Exp(%/_continuous_distribution/Add_output_0)\n",
      "  %/RandomNormalLike_output_0 = RandomNormalLike[dtype = 1](%/_continuous_distribution/mu/Gemm_output_0)\n",
      "  %/Mul_output_0 = Mul(%/RandomNormalLike_output_0, %/_continuous_distribution/Exp_output_0)\n",
      "  %/Add_output_0 = Add(%/_continuous_distribution/mu/Gemm_output_0, %/Mul_output_0)\n",
      "  %/Clip_output_0 = Clip[max = 3, min = -3](%/Add_output_0)\n",
      "  %/Constant_output_0 = Constant[value = <Scalar Tensor []>]()\n",
      "  %continuous_actions = Div(%/Clip_output_0, %/Constant_output_0)\n",
      "  %/Clip_1_output_0 = Clip[max = 3, min = -3](%/_continuous_distribution/mu/Gemm_output_0)\n",
      "  %/Constant_1_output_0 = Constant[value = <Scalar Tensor []>]()\n",
      "  %deterministic_continuous_actions = Div(%/Clip_1_output_0, %/Constant_1_output_0)\n",
      "  %version_number = Identity(%version_number.1)\n",
      "  %memory_size = Identity(%memory_size_vector)\n",
      "  %continuous_action_output_shape = Identity(%continuous_act_size_vector)\n",
      "  return %version_number, %memory_size, %continuous_actions, %continuous_action_output_shape, %deterministic_continuous_actions\n",
      "}\n"
     ]
    }
   ],
   "source": [
    "import onnx\n",
    "\n",
    "model = onnx.load(\"My Behavior-199985.onnx\")\n",
    "print(onnx.helper.printable_graph(model.graph))"
   ]
  },
  {
   "cell_type": "code",
   "execution_count": 2,
   "metadata": {},
   "outputs": [
    {
     "name": "stdout",
     "output_type": "stream",
     "text": [
      "Serving 'My Behavior-199985.onnx' at http://localhost:8081\n"
     ]
    },
    {
     "data": {
      "text/plain": [
       "('localhost', 8081)"
      ]
     },
     "execution_count": 2,
     "metadata": {},
     "output_type": "execute_result"
    }
   ],
   "source": [
    "import netron\n",
    "netron.start(\"My Behavior-199985.onnx\")"
   ]
  },
  {
   "cell_type": "code",
   "execution_count": null,
   "metadata": {},
   "outputs": [],
   "source": []
  }
 ],
 "metadata": {
  "kernelspec": {
   "display_name": "base",
   "language": "python",
   "name": "python3"
  },
  "language_info": {
   "codemirror_mode": {
    "name": "ipython",
    "version": 3
   },
   "file_extension": ".py",
   "mimetype": "text/x-python",
   "name": "python",
   "nbconvert_exporter": "python",
   "pygments_lexer": "ipython3",
   "version": "3.11.7"
  }
 },
 "nbformat": 4,
 "nbformat_minor": 2
}
