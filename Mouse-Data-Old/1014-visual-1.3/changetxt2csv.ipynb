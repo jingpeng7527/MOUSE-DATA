{
 "cells": [
  {
   "cell_type": "code",
   "execution_count": 3,
   "metadata": {},
   "outputs": [
    {
     "name": "stdout",
     "output_type": "stream",
     "text": [
      "Processing 1014-visual1.3-155x86.txt.txt...\n",
      "Processing 1014-visual1.3-155x86.txt.txt.txt...\n",
      "Processing 1014-visual1.3-155x86.txt.txt.txt.txt.txt...\n",
      "Processing 1014-visual1.3-155x86.txt.txt.txt.txt.txt.txt...\n",
      "CSV file saved as combined_log_data.csv\n"
     ]
    }
   ],
   "source": [
    "import csv\n",
    "\n",
    "# Define the paths to the text files\n",
    "log_txt_files = [\"1014-visual1.3-155x86.txt.txt\", \"1014-visual1.3-155x86.txt.txt.txt\", \"1014-visual1.3-155x86.txt.txt.txt.txt.txt\", \"1014-visual1.3-155x86.txt.txt.txt.txt.txt.txt\"]  # List all your text files here\n",
    "\n",
    "def parse_file(file_path, last_value=0):\n",
    "    \"\"\"Parse a text file and adjust 'n', 'f', and 'h' events by adding the last_value.\"\"\"\n",
    "    csv_data = []\n",
    "    max_value = last_value\n",
    "\n",
    "    with open(file_path, \"r\") as file:\n",
    "        lines = file.readlines()\n",
    "\n",
    "    for line in lines:\n",
    "        line = line.strip()\n",
    "        if line and line[0].isdigit():  # Only process lines with events\n",
    "            parts = line.split(\"\\t\")\n",
    "            \n",
    "            # Ensure each row has enough columns\n",
    "            while len(parts) < 7:\n",
    "                parts.append(\"\")\n",
    "\n",
    "            # Adjust 'n', 'f', or 'h' event values\n",
    "            if parts[1] in ['n', 'f', 'h']:\n",
    "                parts[2] = str(int(parts[2]) + last_value)  # Add last 'n/f/h' value\n",
    "                max_value = max(max_value, int(parts[2]))  # Update max 'n/f/h' value seen\n",
    "            \n",
    "            csv_data.append(parts)\n",
    "\n",
    "    return csv_data, max_value\n",
    "\n",
    "try:\n",
    "    # Prepare CSV data with headers\n",
    "    csv_data = [[\"Time\", \"EventType\", \"x\", \"y\", \"z\", \"r\", \"n\"]]  # CSV headers\n",
    "\n",
    "    # Initialize the accumulated value\n",
    "    accumulated_value = 0\n",
    "\n",
    "    # Loop through each text file and process them\n",
    "    for txt_file in log_txt_files:\n",
    "        print(f\"Processing {txt_file}...\")\n",
    "        file_data, last_value = parse_file(txt_file, accumulated_value)\n",
    "        csv_data.extend(file_data)  # Append parsed data\n",
    "        accumulated_value = last_value  # Update accumulated value for the next file\n",
    "\n",
    "    # Write combined data to a single CSV file\n",
    "    csv_filename = \"combined_log_data.csv\"\n",
    "    with open(csv_filename, mode=\"w\", newline=\"\") as file:\n",
    "        writer = csv.writer(file)\n",
    "        writer.writerows(csv_data)\n",
    "\n",
    "    print(f\"CSV file saved as {csv_filename}\")\n",
    "\n",
    "except FileNotFoundError as e:\n",
    "    print(f\"Error: The file {e.filename} was not found.\")\n",
    "except Exception as e:\n",
    "    print(f\"An error occurred: {e}\")\n",
    "\n"
   ]
  },
  {
   "cell_type": "code",
   "execution_count": null,
   "metadata": {},
   "outputs": [],
   "source": [
    "import pandas as pd\n",
    "\n",
    "# Load the CSV file into a dataframe\n",
    "df_processed = pd.read_csv('combined_1014-visual-1.3.csv', sep=',', header=None, engine='python')\n",
    "\n",
    "# Naming the columns\n",
    "df_processed.columns = ['Time', 'EventType', 'Value1', 'Value2', 'Value3', 'Value4', 'Value5']\n",
    "df_processed"
   ]
  },
  {
   "cell_type": "code",
   "execution_count": 22,
   "metadata": {},
   "outputs": [
    {
     "name": "stdout",
     "output_type": "stream",
     "text": [
      "Shape of df_processed after applying preprocess_event: (3073469, 7)\n",
      "First few rows of df_processed:            Time  EventType       Value1 Value2      Value3    Value4 Value5\n",
      "0          Time  EventType            x      y           z         r      n\n",
      "1  10:49:58.057          n            1    NaN         NaN       NaN   None\n",
      "2  10:49:58.057          t            1    0.5  0.03476244       -70     20\n",
      "3  10:49:58.058          s            0    NaN         NaN       NaN   None\n",
      "4  10:49:58.171          h            1    NaN         NaN       NaN   None\n",
      "5  10:49:58.171          r            1    NaN         NaN       NaN   None\n",
      "6  10:49:58.172          n            2    NaN         NaN       NaN   None\n",
      "7  10:49:58.172          t            1    0.5   0.1406793       -70     20\n",
      "8  10:49:58.172          s            0    NaN         NaN       NaN   None\n",
      "9  10:49:58.192          p  -0.02515763    0.5  0.01511081  90.02986   None\n"
     ]
    }
   ],
   "source": [
    "# Preprocess the CSV:\n",
    "# For events 'n', 'h', and 'f', keep only the event type and trial number (Value1).\n",
    "# For event 'p', keep all the position and rotation data (x, y, z, and rotation).\n",
    "def preprocess_event(row):\n",
    "    event_type = row['EventType']\n",
    "    if event_type in ['n', 'h', 'f', 's', 'r']:  # Only keep 'Value1' for these events\n",
    "        return pd.Series([row['Time'], event_type, row['Value1'], None, None, None, None])\n",
    "    elif event_type == 'p':  # Keep all position and rotation data\n",
    "        return pd.Series([row['Time'], event_type, None, row['Value1'], row['Value2'], row['Value3'], row['Value4']])\n",
    "    else:\n",
    "        return pd.Series([row['Time'], event_type, row['Value1'], row['Value2'], row['Value3'], row['Value4'], row['Value5']])\n",
    "\n",
    "print(\"Shape of df_processed after applying preprocess_event:\", df_processed.shape)\n",
    "print(\"First few rows of df_processed:\", df_processed.head(n=10))\n"
   ]
  },
  {
   "cell_type": "code",
   "execution_count": 23,
   "metadata": {},
   "outputs": [],
   "source": [
    "df_processed = df_processed.apply(preprocess_event, axis=1)"
   ]
  },
  {
   "cell_type": "code",
   "execution_count": 25,
   "metadata": {},
   "outputs": [
    {
     "name": "stdout",
     "output_type": "stream",
     "text": [
      "Preprocessing complete, saved as 'preprocessed_data.csv'\n"
     ]
    }
   ],
   "source": [
    "# Rename columns for clarity\n",
    "df_processed.columns = ['Time', 'EventType', 'TrialNumber', 'x', 'y', 'z', 'rotation']\n",
    "\n",
    "# Save the preprocessed CSV for future use (optional)\n",
    "df_processed.to_csv('preprocessed_1014-viusal-1.3.csv', index=False)\n",
    "\n",
    "print(\"Preprocessing complete, saved as 'preprocessed_1017-viusal-1.41.csv'\")"
   ]
  },
  {
   "cell_type": "code",
   "execution_count": null,
   "metadata": {},
   "outputs": [],
   "source": []
  }
 ],
 "metadata": {
  "kernelspec": {
   "display_name": "base",
   "language": "python",
   "name": "python3"
  },
  "language_info": {
   "codemirror_mode": {
    "name": "ipython",
    "version": 3
   },
   "file_extension": ".py",
   "mimetype": "text/x-python",
   "name": "python",
   "nbconvert_exporter": "python",
   "pygments_lexer": "ipython3",
   "version": "3.12.4"
  }
 },
 "nbformat": 4,
 "nbformat_minor": 2
}
