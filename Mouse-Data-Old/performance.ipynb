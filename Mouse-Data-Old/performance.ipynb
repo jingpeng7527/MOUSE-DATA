{
 "cells": [
  {
   "cell_type": "code",
   "execution_count": 1,
   "metadata": {},
   "outputs": [
    {
     "name": "stdout",
     "output_type": "stream",
     "text": [
      "CSV file saved as log_data.csv\n"
     ]
    }
   ],
   "source": [
    "import csv\n",
    "\n",
    "# Define the path to the text file\n",
    "log_txt_file = \"0909-ori-20v0.txt\"\n",
    "\n",
    "try:\n",
    "    # Read the log data from the text file\n",
    "    with open(log_txt_file, \"r\") as file:\n",
    "        lines = file.readlines()\n",
    "\n",
    "    # Parse the lines and prepare the CSV data\n",
    "    csv_data = [[\"SessionTime(seconds)\", \"EventType\", \"x\", \"y\", \"z\", \"r\"]]  # CSV headers\n",
    "\n",
    "    for line in lines:\n",
    "        line = line.strip()\n",
    "        if line and line[0].isdigit():  # Only process lines with events\n",
    "            parts = line.split(\"\\t\")\n",
    "            csv_data.append(parts + [\"\"] * (6 - len(parts)))  # Ensure 6 columns in the CSV\n",
    "\n",
    "    # Write the parsed data to a CSV file\n",
    "    csv_filename = \"log_data.csv\"\n",
    "    with open(csv_filename, mode=\"w\", newline=\"\") as file:\n",
    "        writer = csv.writer(file)\n",
    "        writer.writerows(csv_data)\n",
    "\n",
    "    print(f\"CSV file saved as {csv_filename}\")\n",
    "\n",
    "except FileNotFoundError:\n",
    "    print(f\"Error: The file {log_txt_file} was not found.\")\n",
    "except Exception as e:\n",
    "    print(f\"An error occurred: {e}\")\n"
   ]
  },
  {
   "cell_type": "code",
   "execution_count": null,
   "metadata": {},
   "outputs": [],
   "source": []
  }
 ],
 "metadata": {
  "kernelspec": {
   "display_name": "ppo_imp",
   "language": "python",
   "name": "python3"
  },
  "language_info": {
   "name": "python",
   "version": "3.12.4"
  }
 },
 "nbformat": 4,
 "nbformat_minor": 2
}
