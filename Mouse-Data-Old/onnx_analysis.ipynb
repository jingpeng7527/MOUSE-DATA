{
 "cells": [
  {
   "cell_type": "code",
   "execution_count": 4,
   "metadata": {},
   "outputs": [
    {
     "name": "stdout",
     "output_type": "stream",
     "text": [
      "graph torch_jit (\n",
      "  %obs_0[FLOAT, batchx1x86x155]\n",
      ") initializers (\n",
      "  %version_number.1[FLOAT, 1]\n",
      "  %memory_size_vector[FLOAT, 1]\n",
      "  %network_body.observation_encoder.processors.0.dense.0.weight[FLOAT, 6665x13330]\n",
      "  %network_body.observation_encoder.processors.0.dense.0.bias[FLOAT, 6665]\n",
      "  %network_body.observation_encoder.processors.0.dense.2.weight[FLOAT, 256x6665]\n",
      "  %network_body.observation_encoder.processors.0.dense.2.bias[FLOAT, 256]\n",
      "  %network_body._body_endoder.seq_layers.0.weight[FLOAT, 256x256]\n",
      "  %network_body._body_endoder.seq_layers.0.bias[FLOAT, 256]\n",
      "  %network_body._body_endoder.seq_layers.2.weight[FLOAT, 256x256]\n",
      "  %network_body._body_endoder.seq_layers.2.bias[FLOAT, 256]\n",
      "  %action_model._continuous_distribution.log_sigma[FLOAT, 1x3]\n",
      "  %action_model._continuous_distribution.mu.weight[FLOAT, 3x256]\n",
      "  %action_model._continuous_distribution.mu.bias[FLOAT, 3]\n",
      ") {\n",
      "  %continuous_act_size_vector = Identity(%version_number.1)\n",
      "  %/network_body/observation_encoder/processors.0/Constant_output_0 = Constant[value = <Tensor>]()\n",
      "  %/network_body/observation_encoder/processors.0/Reshape_output_0 = Reshape(%obs_0, %/network_body/observation_encoder/processors.0/Constant_output_0)\n",
      "  %/network_body/observation_encoder/processors.0/dense/dense.0/Gemm_output_0 = Gemm[alpha = 1, beta = 1, transB = 1](%/network_body/observation_encoder/processors.0/Reshape_output_0, %network_body.observation_encoder.processors.0.dense.0.weight, %network_body.observation_encoder.processors.0.dense.0.bias)\n",
      "  %/network_body/observation_encoder/processors.0/dense/dense.1/LeakyRelu_output_0 = LeakyRelu[alpha = 0.00999999977648258](%/network_body/observation_encoder/processors.0/dense/dense.0/Gemm_output_0)\n",
      "  %/network_body/observation_encoder/processors.0/dense/dense.2/Gemm_output_0 = Gemm[alpha = 1, beta = 1, transB = 1](%/network_body/observation_encoder/processors.0/dense/dense.1/LeakyRelu_output_0, %network_body.observation_encoder.processors.0.dense.2.weight, %network_body.observation_encoder.processors.0.dense.2.bias)\n",
      "  %/network_body/observation_encoder/processors.0/dense/dense.3/LeakyRelu_output_0 = LeakyRelu[alpha = 0.00999999977648258](%/network_body/observation_encoder/processors.0/dense/dense.2/Gemm_output_0)\n",
      "  %/network_body/observation_encoder/Concat_output_0 = Concat[axis = 1](%/network_body/observation_encoder/processors.0/dense/dense.3/LeakyRelu_output_0)\n",
      "  %/network_body/_body_endoder/seq_layers/seq_layers.0/Gemm_output_0 = Gemm[alpha = 1, beta = 1, transB = 1](%/network_body/observation_encoder/Concat_output_0, %network_body._body_endoder.seq_layers.0.weight, %network_body._body_endoder.seq_layers.0.bias)\n",
      "  %/network_body/_body_endoder/seq_layers/seq_layers.1/Sigmoid_output_0 = Sigmoid(%/network_body/_body_endoder/seq_layers/seq_layers.0/Gemm_output_0)\n",
      "  %/network_body/_body_endoder/seq_layers/seq_layers.1/Mul_output_0 = Mul(%/network_body/_body_endoder/seq_layers/seq_layers.0/Gemm_output_0, %/network_body/_body_endoder/seq_layers/seq_layers.1/Sigmoid_output_0)\n",
      "  %/network_body/_body_endoder/seq_layers/seq_layers.2/Gemm_output_0 = Gemm[alpha = 1, beta = 1, transB = 1](%/network_body/_body_endoder/seq_layers/seq_layers.1/Mul_output_0, %network_body._body_endoder.seq_layers.2.weight, %network_body._body_endoder.seq_layers.2.bias)\n",
      "  %/network_body/_body_endoder/seq_layers/seq_layers.3/Sigmoid_output_0 = Sigmoid(%/network_body/_body_endoder/seq_layers/seq_layers.2/Gemm_output_0)\n",
      "  %/network_body/_body_endoder/seq_layers/seq_layers.3/Mul_output_0 = Mul(%/network_body/_body_endoder/seq_layers/seq_layers.2/Gemm_output_0, %/network_body/_body_endoder/seq_layers/seq_layers.3/Sigmoid_output_0)\n",
      "  %/_continuous_distribution/mu/Gemm_output_0 = Gemm[alpha = 1, beta = 1, transB = 1](%/network_body/_body_endoder/seq_layers/seq_layers.3/Mul_output_0, %action_model._continuous_distribution.mu.weight, %action_model._continuous_distribution.mu.bias)\n",
      "  %/_continuous_distribution/Constant_output_0 = Constant[value = <Scalar Tensor []>]()\n",
      "  %/_continuous_distribution/Mul_output_0 = Mul(%/_continuous_distribution/mu/Gemm_output_0, %/_continuous_distribution/Constant_output_0)\n",
      "  %/_continuous_distribution/Add_output_0 = Add(%/_continuous_distribution/Mul_output_0, %action_model._continuous_distribution.log_sigma)\n",
      "  %/_continuous_distribution/Exp_output_0 = Exp(%/_continuous_distribution/Add_output_0)\n",
      "  %/RandomNormalLike_output_0 = RandomNormalLike[dtype = 1](%/_continuous_distribution/mu/Gemm_output_0)\n",
      "  %/Mul_output_0 = Mul(%/RandomNormalLike_output_0, %/_continuous_distribution/Exp_output_0)\n",
      "  %/Add_output_0 = Add(%/_continuous_distribution/mu/Gemm_output_0, %/Mul_output_0)\n",
      "  %/Clip_output_0 = Clip[max = 3, min = -3](%/Add_output_0)\n",
      "  %/Constant_output_0 = Constant[value = <Scalar Tensor []>]()\n",
      "  %continuous_actions = Div(%/Clip_output_0, %/Constant_output_0)\n",
      "  %/Clip_1_output_0 = Clip[max = 3, min = -3](%/_continuous_distribution/mu/Gemm_output_0)\n",
      "  %/Constant_1_output_0 = Constant[value = <Scalar Tensor []>]()\n",
      "  %deterministic_continuous_actions = Div(%/Clip_1_output_0, %/Constant_1_output_0)\n",
      "  %version_number = Identity(%version_number.1)\n",
      "  %memory_size = Identity(%memory_size_vector)\n",
      "  %continuous_action_output_shape = Identity(%continuous_act_size_vector)\n",
      "  return %version_number, %memory_size, %continuous_actions, %continuous_action_output_shape, %deterministic_continuous_actions\n",
      "}\n"
     ]
    }
   ],
   "source": [
    "import onnx\n",
    "\n",
    "model = onnx.load(\"My Behavior-149971.onnx\")\n",
    "print(onnx.helper.printable_graph(model.graph))"
   ]
  },
  {
   "cell_type": "code",
   "execution_count": 12,
   "metadata": {},
   "outputs": [
    {
     "name": "stdout",
     "output_type": "stream",
     "text": [
      "Serving 'My Behavior-149971.onnx' at http://localhost:22496\n"
     ]
    },
    {
     "data": {
      "text/plain": [
       "('localhost', 22496)"
      ]
     },
     "execution_count": 12,
     "metadata": {},
     "output_type": "execute_result"
    }
   ],
   "source": [
    "import netron\n",
    "netron.start(\"My Behavior-149971.onnx\")"
   ]
  },
  {
   "cell_type": "code",
   "execution_count": 22,
   "metadata": {},
   "outputs": [
    {
     "ename": "ImportError",
     "evalue": "cannot import name 'TypeIs' from 'typing_extensions' (/opt/anaconda3/lib/python3.11/site-packages/typing_extensions.py)",
     "output_type": "error",
     "traceback": [
      "\u001b[0;31m---------------------------------------------------------------------------\u001b[0m",
      "\u001b[0;31mImportError\u001b[0m                               Traceback (most recent call last)",
      "Cell \u001b[0;32mIn[22], line 1\u001b[0m\n\u001b[0;32m----> 1\u001b[0m \u001b[38;5;28;01mimport\u001b[39;00m \u001b[38;5;21;01mtorch\u001b[39;00m\n\u001b[1;32m      3\u001b[0m \u001b[38;5;66;03m# Load the state dictionary\u001b[39;00m\n\u001b[1;32m      4\u001b[0m state_dict \u001b[38;5;241m=\u001b[39m torch\u001b[38;5;241m.\u001b[39mload(\u001b[38;5;124m\"\u001b[39m\u001b[38;5;124mMy Behavior-149971.pt\u001b[39m\u001b[38;5;124m\"\u001b[39m, map_location\u001b[38;5;241m=\u001b[39m\u001b[38;5;124m\"\u001b[39m\u001b[38;5;124mcpu\u001b[39m\u001b[38;5;124m\"\u001b[39m)\n",
      "File \u001b[0;32m/opt/anaconda3/lib/python3.11/site-packages/torch/__init__.py:75\u001b[0m\n\u001b[1;32m     73\u001b[0m         typing_extensions\u001b[38;5;241m.\u001b[39mTypeIs \u001b[38;5;241m=\u001b[39m _TypeIs\n\u001b[1;32m     74\u001b[0m \u001b[38;5;28;01melse\u001b[39;00m:\n\u001b[0;32m---> 75\u001b[0m     \u001b[38;5;28;01mfrom\u001b[39;00m \u001b[38;5;21;01mtyping_extensions\u001b[39;00m \u001b[38;5;28;01mimport\u001b[39;00m TypeIs \u001b[38;5;28;01mas\u001b[39;00m _TypeIs\n\u001b[1;32m     77\u001b[0m     \u001b[38;5;28;01mfrom\u001b[39;00m \u001b[38;5;21;01mtorch\u001b[39;00m\u001b[38;5;21;01m.\u001b[39;00m\u001b[38;5;21;01mtorch_version\u001b[39;00m \u001b[38;5;28;01mimport\u001b[39;00m __version__ \u001b[38;5;28;01mas\u001b[39;00m __version__\n\u001b[1;32m     79\u001b[0m __all__ \u001b[38;5;241m=\u001b[39m [\n\u001b[1;32m     80\u001b[0m     \u001b[38;5;124m\"\u001b[39m\u001b[38;5;124mBoolStorage\u001b[39m\u001b[38;5;124m\"\u001b[39m,\n\u001b[1;32m     81\u001b[0m     \u001b[38;5;124m\"\u001b[39m\u001b[38;5;124mBoolTensor\u001b[39m\u001b[38;5;124m\"\u001b[39m,\n\u001b[0;32m   (...)\u001b[0m\n\u001b[1;32m    149\u001b[0m     \u001b[38;5;124m\"\u001b[39m\u001b[38;5;124mvmap\u001b[39m\u001b[38;5;124m\"\u001b[39m,\n\u001b[1;32m    150\u001b[0m ]\n",
      "\u001b[0;31mImportError\u001b[0m: cannot import name 'TypeIs' from 'typing_extensions' (/opt/anaconda3/lib/python3.11/site-packages/typing_extensions.py)"
     ]
    }
   ],
   "source": [
    "import torch\n",
    "\n",
    "# Load the state dictionary\n",
    "state_dict = torch.load(\"My Behavior-149971.pt\", map_location=\"cpu\")\n",
    "\n",
    "# Print available keys (layer names)\n",
    "print(state_dict.keys())\n"
   ]
  },
  {
   "cell_type": "code",
   "execution_count": 20,
   "metadata": {},
   "outputs": [
    {
     "ename": "ImportError",
     "evalue": "cannot import name 'TypeIs' from 'typing_extensions' (/opt/anaconda3/lib/python3.11/site-packages/typing_extensions.py)",
     "output_type": "error",
     "traceback": [
      "\u001b[0;31m---------------------------------------------------------------------------\u001b[0m",
      "\u001b[0;31mImportError\u001b[0m                               Traceback (most recent call last)",
      "Cell \u001b[0;32mIn[20], line 1\u001b[0m\n\u001b[0;32m----> 1\u001b[0m \u001b[38;5;28;01mfrom\u001b[39;00m \u001b[38;5;21;01mtorchinfo\u001b[39;00m \u001b[38;5;28;01mimport\u001b[39;00m summary\n\u001b[1;32m      3\u001b[0m \u001b[38;5;66;03m# Assuming you have a model instance\u001b[39;00m\n\u001b[1;32m      4\u001b[0m summary(model, input_size\u001b[38;5;241m=\u001b[39m(\u001b[38;5;241m1\u001b[39m, \u001b[38;5;241m3\u001b[39m, \u001b[38;5;241m224\u001b[39m, \u001b[38;5;241m224\u001b[39m))\n",
      "File \u001b[0;32m/opt/anaconda3/lib/python3.11/site-packages/torchinfo/__init__.py:2\u001b[0m\n\u001b[1;32m      1\u001b[0m \u001b[38;5;28;01mfrom\u001b[39;00m \u001b[38;5;21;01m.\u001b[39;00m\u001b[38;5;21;01menums\u001b[39;00m \u001b[38;5;28;01mimport\u001b[39;00m ColumnSettings, Mode, RowSettings, Units, Verbosity\n\u001b[0;32m----> 2\u001b[0m \u001b[38;5;28;01mfrom\u001b[39;00m \u001b[38;5;21;01m.\u001b[39;00m\u001b[38;5;21;01mmodel_statistics\u001b[39;00m \u001b[38;5;28;01mimport\u001b[39;00m ModelStatistics\n\u001b[1;32m      3\u001b[0m \u001b[38;5;28;01mfrom\u001b[39;00m \u001b[38;5;21;01m.\u001b[39;00m\u001b[38;5;21;01mtorchinfo\u001b[39;00m \u001b[38;5;28;01mimport\u001b[39;00m summary\n\u001b[1;32m      5\u001b[0m __all__ \u001b[38;5;241m=\u001b[39m (\n\u001b[1;32m      6\u001b[0m     \u001b[38;5;124m\"\u001b[39m\u001b[38;5;124msummary\u001b[39m\u001b[38;5;124m\"\u001b[39m,\n\u001b[1;32m      7\u001b[0m     \u001b[38;5;124m\"\u001b[39m\u001b[38;5;124mColumnSettings\u001b[39m\u001b[38;5;124m\"\u001b[39m,\n\u001b[0;32m   (...)\u001b[0m\n\u001b[1;32m     12\u001b[0m     \u001b[38;5;124m\"\u001b[39m\u001b[38;5;124mVerbosity\u001b[39m\u001b[38;5;124m\"\u001b[39m,\n\u001b[1;32m     13\u001b[0m )\n",
      "File \u001b[0;32m/opt/anaconda3/lib/python3.11/site-packages/torchinfo/model_statistics.py:6\u001b[0m\n\u001b[1;32m      3\u001b[0m \u001b[38;5;28;01mfrom\u001b[39;00m \u001b[38;5;21;01mtyping\u001b[39;00m \u001b[38;5;28;01mimport\u001b[39;00m Any\n\u001b[1;32m      5\u001b[0m \u001b[38;5;28;01mfrom\u001b[39;00m \u001b[38;5;21;01m.\u001b[39;00m\u001b[38;5;21;01menums\u001b[39;00m \u001b[38;5;28;01mimport\u001b[39;00m Units\n\u001b[0;32m----> 6\u001b[0m \u001b[38;5;28;01mfrom\u001b[39;00m \u001b[38;5;21;01m.\u001b[39;00m\u001b[38;5;21;01mformatting\u001b[39;00m \u001b[38;5;28;01mimport\u001b[39;00m CONVERSION_FACTORS, FormattingOptions\n\u001b[1;32m      7\u001b[0m \u001b[38;5;28;01mfrom\u001b[39;00m \u001b[38;5;21;01m.\u001b[39;00m\u001b[38;5;21;01mlayer_info\u001b[39;00m \u001b[38;5;28;01mimport\u001b[39;00m LayerInfo\n\u001b[1;32m     10\u001b[0m \u001b[38;5;28;01mclass\u001b[39;00m \u001b[38;5;21;01mModelStatistics\u001b[39;00m:\n",
      "File \u001b[0;32m/opt/anaconda3/lib/python3.11/site-packages/torchinfo/formatting.py:7\u001b[0m\n\u001b[1;32m      4\u001b[0m \u001b[38;5;28;01mfrom\u001b[39;00m \u001b[38;5;21;01mtyping\u001b[39;00m \u001b[38;5;28;01mimport\u001b[39;00m Any\n\u001b[1;32m      6\u001b[0m \u001b[38;5;28;01mfrom\u001b[39;00m \u001b[38;5;21;01m.\u001b[39;00m\u001b[38;5;21;01menums\u001b[39;00m \u001b[38;5;28;01mimport\u001b[39;00m ColumnSettings, RowSettings, Units, Verbosity\n\u001b[0;32m----> 7\u001b[0m \u001b[38;5;28;01mfrom\u001b[39;00m \u001b[38;5;21;01m.\u001b[39;00m\u001b[38;5;21;01mlayer_info\u001b[39;00m \u001b[38;5;28;01mimport\u001b[39;00m LayerInfo\n\u001b[1;32m      9\u001b[0m HEADER_TITLES \u001b[38;5;241m=\u001b[39m {\n\u001b[1;32m     10\u001b[0m     ColumnSettings\u001b[38;5;241m.\u001b[39mKERNEL_SIZE: \u001b[38;5;124m\"\u001b[39m\u001b[38;5;124mKernel Shape\u001b[39m\u001b[38;5;124m\"\u001b[39m,\n\u001b[1;32m     11\u001b[0m     ColumnSettings\u001b[38;5;241m.\u001b[39mINPUT_SIZE: \u001b[38;5;124m\"\u001b[39m\u001b[38;5;124mInput Shape\u001b[39m\u001b[38;5;124m\"\u001b[39m,\n\u001b[0;32m   (...)\u001b[0m\n\u001b[1;32m     16\u001b[0m     ColumnSettings\u001b[38;5;241m.\u001b[39mTRAINABLE: \u001b[38;5;124m\"\u001b[39m\u001b[38;5;124mTrainable\u001b[39m\u001b[38;5;124m\"\u001b[39m,\n\u001b[1;32m     17\u001b[0m }\n\u001b[1;32m     18\u001b[0m CONVERSION_FACTORS \u001b[38;5;241m=\u001b[39m {\n\u001b[1;32m     19\u001b[0m     Units\u001b[38;5;241m.\u001b[39mTERABYTES: \u001b[38;5;241m1e12\u001b[39m,\n\u001b[1;32m     20\u001b[0m     Units\u001b[38;5;241m.\u001b[39mGIGABYTES: \u001b[38;5;241m1e9\u001b[39m,\n\u001b[1;32m     21\u001b[0m     Units\u001b[38;5;241m.\u001b[39mMEGABYTES: \u001b[38;5;241m1e6\u001b[39m,\n\u001b[1;32m     22\u001b[0m     Units\u001b[38;5;241m.\u001b[39mNONE: \u001b[38;5;241m1\u001b[39m,\n\u001b[1;32m     23\u001b[0m }\n",
      "File \u001b[0;32m/opt/anaconda3/lib/python3.11/site-packages/torchinfo/layer_info.py:6\u001b[0m\n\u001b[1;32m      3\u001b[0m \u001b[38;5;28;01mfrom\u001b[39;00m \u001b[38;5;21;01mtyping\u001b[39;00m \u001b[38;5;28;01mimport\u001b[39;00m Any, Dict, Iterable, Sequence, Union\n\u001b[1;32m      5\u001b[0m \u001b[38;5;28;01mimport\u001b[39;00m \u001b[38;5;21;01mnumpy\u001b[39;00m \u001b[38;5;28;01mas\u001b[39;00m \u001b[38;5;21;01mnp\u001b[39;00m\n\u001b[0;32m----> 6\u001b[0m \u001b[38;5;28;01mimport\u001b[39;00m \u001b[38;5;21;01mtorch\u001b[39;00m\n\u001b[1;32m      7\u001b[0m \u001b[38;5;28;01mfrom\u001b[39;00m \u001b[38;5;21;01mtorch\u001b[39;00m \u001b[38;5;28;01mimport\u001b[39;00m nn\n\u001b[1;32m      8\u001b[0m \u001b[38;5;28;01mfrom\u001b[39;00m \u001b[38;5;21;01mtorch\u001b[39;00m\u001b[38;5;21;01m.\u001b[39;00m\u001b[38;5;21;01mjit\u001b[39;00m \u001b[38;5;28;01mimport\u001b[39;00m ScriptModule\n",
      "File \u001b[0;32m/opt/anaconda3/lib/python3.11/site-packages/torch/__init__.py:75\u001b[0m\n\u001b[1;32m     73\u001b[0m         typing_extensions\u001b[38;5;241m.\u001b[39mTypeIs \u001b[38;5;241m=\u001b[39m _TypeIs\n\u001b[1;32m     74\u001b[0m \u001b[38;5;28;01melse\u001b[39;00m:\n\u001b[0;32m---> 75\u001b[0m     \u001b[38;5;28;01mfrom\u001b[39;00m \u001b[38;5;21;01mtyping_extensions\u001b[39;00m \u001b[38;5;28;01mimport\u001b[39;00m TypeIs \u001b[38;5;28;01mas\u001b[39;00m _TypeIs\n\u001b[1;32m     77\u001b[0m     \u001b[38;5;28;01mfrom\u001b[39;00m \u001b[38;5;21;01mtorch\u001b[39;00m\u001b[38;5;21;01m.\u001b[39;00m\u001b[38;5;21;01mtorch_version\u001b[39;00m \u001b[38;5;28;01mimport\u001b[39;00m __version__ \u001b[38;5;28;01mas\u001b[39;00m __version__\n\u001b[1;32m     79\u001b[0m __all__ \u001b[38;5;241m=\u001b[39m [\n\u001b[1;32m     80\u001b[0m     \u001b[38;5;124m\"\u001b[39m\u001b[38;5;124mBoolStorage\u001b[39m\u001b[38;5;124m\"\u001b[39m,\n\u001b[1;32m     81\u001b[0m     \u001b[38;5;124m\"\u001b[39m\u001b[38;5;124mBoolTensor\u001b[39m\u001b[38;5;124m\"\u001b[39m,\n\u001b[0;32m   (...)\u001b[0m\n\u001b[1;32m    149\u001b[0m     \u001b[38;5;124m\"\u001b[39m\u001b[38;5;124mvmap\u001b[39m\u001b[38;5;124m\"\u001b[39m,\n\u001b[1;32m    150\u001b[0m ]\n",
      "\u001b[0;31mImportError\u001b[0m: cannot import name 'TypeIs' from 'typing_extensions' (/opt/anaconda3/lib/python3.11/site-packages/typing_extensions.py)"
     ]
    }
   ],
   "source": [
    "from torchinfo import summary\n",
    "\n",
    "# Assuming you have a model instance\n",
    "summary(model, input_size=(1, 3, 224, 224))  # Modify input shape as needed"
   ]
  },
  {
   "cell_type": "code",
   "execution_count": 23,
   "metadata": {},
   "outputs": [
    {
     "name": "stdout",
     "output_type": "stream",
     "text": [
      "Requirement already satisfied: torchinfo in /opt/anaconda3/lib/python3.11/site-packages (1.8.0)\n",
      "Note: you may need to restart the kernel to use updated packages.\n"
     ]
    }
   ],
   "source": [
    "pip install torchinfo"
   ]
  },
  {
   "cell_type": "code",
   "execution_count": null,
   "metadata": {},
   "outputs": [],
   "source": []
  }
 ],
 "metadata": {
  "kernelspec": {
   "display_name": "base",
   "language": "python",
   "name": "python3"
  },
  "language_info": {
   "codemirror_mode": {
    "name": "ipython",
    "version": 3
   },
   "file_extension": ".py",
   "mimetype": "text/x-python",
   "name": "python",
   "nbconvert_exporter": "python",
   "pygments_lexer": "ipython3",
   "version": "3.11.7"
  }
 },
 "nbformat": 4,
 "nbformat_minor": 2
}
